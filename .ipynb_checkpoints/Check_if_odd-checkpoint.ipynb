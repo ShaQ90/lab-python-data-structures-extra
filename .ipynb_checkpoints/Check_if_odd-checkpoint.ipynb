{
 "cells": [
  {
   "cell_type": "code",
   "execution_count": 11,
   "id": "4ef5b218-0bb1-4703-80ae-c600d6f2892a",
   "metadata": {},
   "outputs": [
    {
     "name": "stdin",
     "output_type": "stream",
     "text": [
      "Please insert the 1 number: 1\n",
      "Please insert the 2 number: 2\n",
      "Please insert the 3 number: 3\n",
      "Please insert the 4 number: 4\n",
      "Please insert the 5 number: 5\n"
     ]
    },
    {
     "name": "stdout",
     "output_type": "stream",
     "text": [
      "The number 1 is odd\n",
      "The number 2 is even\n",
      "The number 3 is odd\n",
      "The number 4 is even\n",
      "The number 5 is odd\n"
     ]
    }
   ],
   "source": [
    "\n",
    "#version 1.0\n",
    "#This is a fucntion to ask the user to input an integer number\n",
    "def check_if_int ():\n",
    "    userinp =\"\"\n",
    "    while not userinp.isdigit():\n",
    "        userinp = input(f\"Please insert the {x+1} number:\")\n",
    "    return int(userinp)\n",
    "\n",
    "#This is a funciton to check if the number is even or odd and print it\n",
    "def check_if_odd (myvar):\n",
    "    if myvar % 2 == 0:\n",
    "        print(f\"The number {myvar} is even\")\n",
    "    else:\n",
    "        print(f\"The number {myvar} is odd\")\n",
    "\n",
    "# This is the body of the code\n",
    "\n",
    "#define global VARS\n",
    "numbers = []\n",
    "numbers_amout = 5\n",
    "\n",
    "#Ask for the amout of number we want\n",
    "for x in range(numbers_amout):   \n",
    "    numbers.append(int(check_if_int()))\n",
    "    \n",
    "#Runs all the values of the list and checks if even or odd    \n",
    "for x in numbers:\n",
    "    check_if_odd(x)\n",
    "    "
   ]
  },
  {
   "cell_type": "code",
   "execution_count": 19,
   "id": "1e361cd0-a80e-4a3c-aa3c-f97f53a68a0b",
   "metadata": {},
   "outputs": [
    {
     "name": "stdin",
     "output_type": "stream",
     "text": [
      "How many number tou want check 2\n",
      "Please insert the 1 number: 1\n",
      "Please insert the 2 number: 2\n"
     ]
    },
    {
     "name": "stdout",
     "output_type": "stream",
     "text": [
      "The number 1 is odd\n",
      "The number 2 is even\n"
     ]
    }
   ],
   "source": [
    "#version 1.1.\n",
    "#This is a fucntion to ask the user to input an integer number\n",
    "def check_if_int (x):\n",
    "    userinp =\"\"\n",
    "    while not userinp.isdigit():\n",
    "        userinp = input(f\"Please insert the {x+1} number:\")\n",
    "    return int(userinp)\n",
    "\n",
    "#This is a funciton to check if the number is even or odd and print it\n",
    "def check_if_odd (myvar):\n",
    "    if myvar % 2 == 0:\n",
    "        print(f\"The number {myvar} is even\")\n",
    "    else:\n",
    "        print(f\"The number {myvar} is odd\")\n",
    "        \n",
    "#This checks the amout of number the user wants to test\n",
    "def check_amount ():\n",
    "    userinp =\"\"\n",
    "    while not userinp.isdigit():\n",
    "        userinp = input(f\"How many number tou want check\")\n",
    "    return int(userinp)\n",
    "\n",
    "#This is a function to run all the code in 1 line\n",
    "def solution (numbers_amout):\n",
    "    numbers = []\n",
    "    #Ask for the amout of number we want\n",
    "    for x in range(numbers_amout):   \n",
    "        numbers.append(int(check_if_int(x)))\n",
    "    \n",
    "    #Runs all the values of the list and checks if even or odd    \n",
    "    for x in numbers:\n",
    "        check_if_odd(x)\n",
    "        \n",
    "# This is the body of the code\n",
    "\n",
    "solution(check_amount())"
   ]
  },
  {
   "cell_type": "code",
   "execution_count": null,
   "id": "23d021e2-4855-4915-9bb3-856252ab882e",
   "metadata": {},
   "outputs": [],
   "source": []
  }
 ],
 "metadata": {
  "kernelspec": {
   "display_name": "Python 3 (ipykernel)",
   "language": "python",
   "name": "python3"
  },
  "language_info": {
   "codemirror_mode": {
    "name": "ipython",
    "version": 3
   },
   "file_extension": ".py",
   "mimetype": "text/x-python",
   "name": "python",
   "nbconvert_exporter": "python",
   "pygments_lexer": "ipython3",
   "version": "3.12.4"
  }
 },
 "nbformat": 4,
 "nbformat_minor": 5
}
